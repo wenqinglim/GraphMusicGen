{
 "cells": [
  {
   "cell_type": "code",
   "execution_count": null,
   "id": "5be64405-01a5-4a28-9b1c-2279fd0bbc4f",
   "metadata": {},
   "outputs": [],
   "source": [
    "# !python3 preprocess.py ~/polyphemus/lmd_matched/A/A/A preprocessed_16 --n_bars=16 --n_files=100 --n_workers=8"
   ]
  },
  {
   "cell_type": "code",
   "execution_count": 145,
   "id": "30276171-f6db-43a5-8599-574d5a2f1e0f",
   "metadata": {
    "tags": []
   },
   "outputs": [],
   "source": [
    "from data import PolyphemusDataset\n",
    "import torch\n",
    "from torch_geometric.data import Data\n"
   ]
  },
  {
   "cell_type": "code",
   "execution_count": 2,
   "id": "14e2d298-31fe-4163-9a36-c881868fd2db",
   "metadata": {
    "tags": []
   },
   "outputs": [],
   "source": [
    "dataset = PolyphemusDataset(\"preprocessed_16/\", n_bars=16)"
   ]
  },
  {
   "cell_type": "code",
   "execution_count": 18,
   "id": "f18a3c06-fc93-4a92-acd7-bcc65afe53d2",
   "metadata": {
    "tags": []
   },
   "outputs": [
    {
     "data": {
      "text/plain": [
       "PolyphemusDataset(533)"
      ]
     },
     "execution_count": 18,
     "metadata": {},
     "output_type": "execute_result"
    }
   ],
   "source": [
    "dataset"
   ]
  },
  {
   "cell_type": "code",
   "execution_count": 6,
   "id": "6d05d267-24cd-400f-b0f8-a12e52ca2ef2",
   "metadata": {
    "tags": []
   },
   "outputs": [],
   "source": [
    "x = dataset.__getitem__(0)"
   ]
  },
  {
   "cell_type": "code",
   "execution_count": 10,
   "id": "dd0b65ec-bb6f-4a08-8b97-3fa74b12eca5",
   "metadata": {
    "tags": []
   },
   "outputs": [
    {
     "data": {
      "text/plain": [
       "Data(edge_index=[2, 1692], edge_attrs=[1692, 33], num_nodes=358, node_features=[358, 4], is_drum=[358], batch=[358], ptr=[17], bars=[358], c_tensor=[358, 16, 230], s_tensor=[16, 4, 32])"
      ]
     },
     "execution_count": 10,
     "metadata": {},
     "output_type": "execute_result"
    }
   ],
   "source": [
    "x"
   ]
  },
  {
   "cell_type": "code",
   "execution_count": 44,
   "id": "fc667c42-7bdd-4bd4-b1cc-f6dba5597edc",
   "metadata": {
    "tags": []
   },
   "outputs": [],
   "source": [
    "def split_into_pairs(input_string):\n",
    "    # Initialize an empty list to hold the pairs\n",
    "    pairs = []\n",
    "    \n",
    "    # Iterate over the string in steps of 2\n",
    "    for i in range(0, len(input_string), 2):\n",
    "        # Append the substring of the next two characters to the list\n",
    "        pairs.append(input_string[i:i+2])\n",
    "    \n",
    "    return pairs"
   ]
  },
  {
   "cell_type": "code",
   "execution_count": 47,
   "id": "139bd4a2-7f76-49bf-97e4-1d5e4cb4d533",
   "metadata": {
    "tags": []
   },
   "outputs": [],
   "source": [
    "phrases = split_into_pairs(\"i4A4A4B9b4A4B9b4B9X5o2\")"
   ]
  },
  {
   "cell_type": "code",
   "execution_count": 54,
   "id": "b925aa8d-198e-4284-8e36-bec4d1013b60",
   "metadata": {
    "tags": []
   },
   "outputs": [
    {
     "data": {
      "text/plain": [
       "['i4', 'A4', 'A4', 'B9', 'b4', 'A4', 'B9', 'b4', 'B9', 'X5', 'o2']"
      ]
     },
     "execution_count": 54,
     "metadata": {},
     "output_type": "execute_result"
    }
   ],
   "source": [
    "phrases"
   ]
  },
  {
   "cell_type": "code",
   "execution_count": 100,
   "id": "025cbfe0-49dc-45ed-ac03-02ab8784b3a0",
   "metadata": {
    "tags": []
   },
   "outputs": [
    {
     "data": {
      "text/plain": [
       "['i4', 'A4', 'B9', 'b4', 'X5', 'o2']"
      ]
     },
     "execution_count": 100,
     "metadata": {},
     "output_type": "execute_result"
    }
   ],
   "source": [
    "list(dict.fromkeys(phrases)) "
   ]
  },
  {
   "cell_type": "code",
   "execution_count": 257,
   "id": "8f901497-e79c-4999-9957-40969c295841",
   "metadata": {
    "tags": []
   },
   "outputs": [
    {
     "name": "stdout",
     "output_type": "stream",
     "text": [
      "SAME\n",
      "EXCEED\n"
     ]
    }
   ],
   "source": [
    "def get_phrase_edge_type(prev_phrase, curr_phrase):\n",
    "    \"\"\"\n",
    "    Edge types:\n",
    "    0: Intro to Any\n",
    "    1: Any to Outro\n",
    "    2: Repeated phrase\n",
    "    3: Melody to Melody\n",
    "    4: Melody to Non-Melody\n",
    "    5: Non-Melody to Melody\n",
    "    6: Non-Melody to Non-Melody\n",
    "    \"\"\"\n",
    "    \n",
    "    prev_phrase_type = prev_phrase[0]\n",
    "    curr_phrase_type = curr_phrase[0]\n",
    "    \n",
    "    if prev_phrase_type == \"i\":\n",
    "        return 0\n",
    "    elif curr_phrase_type == \"o\":\n",
    "        return 1\n",
    "    elif prev_phrase == curr_phrase:\n",
    "        return 2\n",
    "    elif prev_phrase_type.isupper() & curr_phrase_type.isupper():\n",
    "        return 3\n",
    "    elif prev_phrase_type.isupper() & curr_phrase_type.islower():\n",
    "        return 4\n",
    "    elif prev_phrase_type.islower() & curr_phrase_type.isupper():\n",
    "        return 5\n",
    "    elif prev_phrase_type.islower() & curr_phrase_type.islower():\n",
    "        return 6\n",
    "    else:\n",
    "        return None\n",
    "    \n",
    "curr_bar_idx = 0\n",
    "prev_phrase = -1\n",
    "\n",
    "# Construct phrase index (tensor of size n_bars, indicating the phrase type per bar)\n",
    "phrase_idxs = torch.zeros(dataset.n_bars)\n",
    "type_idx = list(dict.fromkeys(phrases)) \n",
    "\n",
    "\n",
    "# construct phrase edges, indicating connected nodes\n",
    "phrase_edges = []\n",
    "edge_types = []\n",
    "\n",
    "for idx, phrase in enumerate(phrases):\n",
    "    n_bar_phrase = int(phrase[1])\n",
    "    phrase_type = phrase[0]\n",
    "    is_repeated = (prev_phrase == type_idx.index(phrase))\n",
    "    \n",
    "    if is_repeated:\n",
    "        phrase_idx = -1\n",
    "    else:\n",
    "        phrase_idx = type_idx.index(phrase)\n",
    "        \n",
    "    phrase_idxs[curr_bar_idx:curr_bar_idx+n_bar_phrase] = phrase_idx\n",
    "    # phrase_idx[curr_bar_idx:curr_bar_idx+n_bar_phrase] = idx\n",
    "    curr_bar_idx += n_bar_phrase\n",
    "    \n",
    "    if idx == 0:\n",
    "        prev_phrase = type_idx.index(phrase)\n",
    "        prev_phrase_type = phrase_type\n",
    "    elif not is_repeated:\n",
    "        edge_type = get_phrase_edge_type(prev_phrase_type, phrase_type)\n",
    "        phrase_edges.append((prev_phrase, type_idx.index(phrase)))\n",
    "        # phrase_edges.append((idx-1, idx))\n",
    "        edge_types.append(edge_type)\n",
    "        prev_phrase = type_idx.index(phrase)\n",
    "        prev_phrase_type = phrase_type\n",
    "    else:\n",
    "        print(\"SAME\")\n",
    "    \n",
    "    if curr_bar_idx > dataset.n_bars:\n",
    "        print(\"EXCEED\")\n",
    "        break\n",
    "    "
   ]
  },
  {
   "cell_type": "code",
   "execution_count": 258,
   "id": "0627eb73-db7e-452b-98ef-4abd9c399d70",
   "metadata": {
    "tags": []
   },
   "outputs": [
    {
     "data": {
      "text/plain": [
       "['i4', 'A4', 'A4', 'B9', 'b4', 'A4', 'B9', 'b4', 'B9', 'X5', 'o2']"
      ]
     },
     "execution_count": 258,
     "metadata": {},
     "output_type": "execute_result"
    }
   ],
   "source": [
    "phrases"
   ]
  },
  {
   "cell_type": "code",
   "execution_count": 259,
   "id": "c2505d7f-12f5-433c-8330-a520e26205a5",
   "metadata": {
    "tags": []
   },
   "outputs": [
    {
     "data": {
      "text/plain": [
       "[(0, 1), (1, 2)]"
      ]
     },
     "execution_count": 259,
     "metadata": {},
     "output_type": "execute_result"
    }
   ],
   "source": [
    "phrase_edges"
   ]
  },
  {
   "cell_type": "code",
   "execution_count": 260,
   "id": "ebd7ab49-5436-42e4-9fb9-c250027f7172",
   "metadata": {
    "tags": []
   },
   "outputs": [
    {
     "data": {
      "text/plain": [
       "['i4', 'A4', 'B9', 'b4', 'X5', 'o2']"
      ]
     },
     "execution_count": 260,
     "metadata": {},
     "output_type": "execute_result"
    }
   ],
   "source": [
    "type_idx"
   ]
  },
  {
   "cell_type": "code",
   "execution_count": 261,
   "id": "d779aa93-f9df-40ee-9435-0d5556c2dec5",
   "metadata": {
    "tags": []
   },
   "outputs": [
    {
     "data": {
      "text/plain": [
       "2"
      ]
     },
     "execution_count": 261,
     "metadata": {},
     "output_type": "execute_result"
    }
   ],
   "source": [
    "phrase_idx"
   ]
  },
  {
   "cell_type": "code",
   "execution_count": 262,
   "id": "f27e5c3c-f6f9-4dbf-a1a5-af0eed72f903",
   "metadata": {
    "tags": []
   },
   "outputs": [],
   "source": [
    "phrase_edge_idx = torch.tensor(phrase_edges, dtype=torch.long).T\n",
    "phrase_edge_attr = torch.tensor(edge_types)"
   ]
  },
  {
   "cell_type": "code",
   "execution_count": 263,
   "id": "cc5e822f-3ea0-4d3c-96ac-5d02d7ff24cf",
   "metadata": {
    "tags": []
   },
   "outputs": [],
   "source": [
    "track_g = Data(edge_index=phrase_edge_idx, edge_attrs=phrase_edge_attr, bar_phrase_idx=phrase_idxs )"
   ]
  },
  {
   "cell_type": "code",
   "execution_count": 264,
   "id": "24cc156b-ef44-4497-8ae6-d61e972242e2",
   "metadata": {
    "tags": []
   },
   "outputs": [
    {
     "data": {
      "text/plain": [
       "tensor([[0, 1],\n",
       "        [1, 2]])"
      ]
     },
     "execution_count": 264,
     "metadata": {},
     "output_type": "execute_result"
    }
   ],
   "source": [
    "track_g.edge_index"
   ]
  },
  {
   "cell_type": "code",
   "execution_count": 265,
   "id": "ec82cb71-ab89-4f72-afc8-a048d25b1390",
   "metadata": {
    "tags": []
   },
   "outputs": [
    {
     "data": {
      "text/plain": [
       "tensor([0, 3])"
      ]
     },
     "execution_count": 265,
     "metadata": {},
     "output_type": "execute_result"
    }
   ],
   "source": [
    "track_g.edge_attrs"
   ]
  },
  {
   "cell_type": "code",
   "execution_count": 266,
   "id": "9522437a-36ee-4888-8804-458f25f75e59",
   "metadata": {
    "tags": []
   },
   "outputs": [
    {
     "data": {
      "text/plain": [
       "tensor([ 0.,  0.,  0.,  0.,  1.,  1.,  1.,  1., -1., -1., -1., -1.,  2.,  2.,\n",
       "         2.,  2.])"
      ]
     },
     "execution_count": 266,
     "metadata": {},
     "output_type": "execute_result"
    }
   ],
   "source": [
    "track_g.bar_phrase_idx"
   ]
  },
  {
   "cell_type": "code",
   "execution_count": null,
   "id": "7c0144c0-c2e7-435e-8446-9ede2112fac7",
   "metadata": {},
   "outputs": [],
   "source": []
  },
  {
   "cell_type": "code",
   "execution_count": null,
   "id": "7ca5065e-6099-424f-8988-fc707d70bc0c",
   "metadata": {},
   "outputs": [],
   "source": []
  }
 ],
 "metadata": {
  "kernelspec": {
   "display_name": "graphmugen",
   "language": "python",
   "name": "graphmugen"
  },
  "language_info": {
   "codemirror_mode": {
    "name": "ipython",
    "version": 3
   },
   "file_extension": ".py",
   "mimetype": "text/x-python",
   "name": "python",
   "nbconvert_exporter": "python",
   "pygments_lexer": "ipython3",
   "version": "3.7.12"
  }
 },
 "nbformat": 4,
 "nbformat_minor": 5
}
