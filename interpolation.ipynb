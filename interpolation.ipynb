{
 "cells": [
  {
   "cell_type": "code",
   "execution_count": null,
   "id": "ce49d720-19e3-4704-aac9-1348e0288ad5",
   "metadata": {},
   "outputs": [],
   "source": [
    "# Test interpolation to connect 2 phrases"
   ]
  },
  {
   "cell_type": "code",
   "execution_count": null,
   "id": "a34d3a7b-0972-45d6-b556-65437b799178",
   "metadata": {},
   "outputs": [],
   "source": [
    "import torch\n",
    "import torch.nn as nn\n",
    "import numpy as np\n",
    "import matplotlib.pyplot as plt\n",
    "\n",
    "from generate import generate_z, generate_music"
   ]
  },
  {
   "cell_type": "code",
   "execution_count": null,
   "id": "691f5970-82f0-4ca2-827b-2c464673db01",
   "metadata": {},
   "outputs": [],
   "source": [
    "# Function to interpolate between two latent vectors\n",
    "def interpolate_latents(z1, z2, steps=10):\n",
    "    \"\"\"Interpolate between two latent vectors z1 and z2.\"\"\"\n",
    "    interpolated_z = []\n",
    "    for t in np.linspace(0, 1, steps):\n",
    "        z_t = (1 - t) * z1 + t * z2\n",
    "        interpolated_z.append(z_t)\n",
    "    return torch.stack(interpolated_z)"
   ]
  },
  {
   "cell_type": "code",
   "execution_count": null,
   "id": "c6bfb3c0-121e-4c0e-a64f-77a88960158e",
   "metadata": {},
   "outputs": [],
   "source": [
    "# Get latent vector for start phrase\n",
    "z1 = generate_z(1, d_model, device)\n",
    "\n",
    "# Get latent vector for end phrase\n",
    "z2 = generate_z(1, d_model, device)\n",
    "\n",
    "# Interpolate between 2 latent vectors\n",
    "zi = interpolate_latents(z1, z2, steps=1)\n",
    "\n",
    "# Generate music for interpolated vector\n",
    "mtp, s_tensor = generate_music(vae, zi, s_cond=None, s_tensor_cond=None)\n",
    "\n",
    "# Combine all 3 "
   ]
  }
 ],
 "metadata": {
  "kernelspec": {
   "display_name": "graphmugen",
   "language": "python",
   "name": "graphmugen"
  },
  "language_info": {
   "codemirror_mode": {
    "name": "ipython",
    "version": 3
   },
   "file_extension": ".py",
   "mimetype": "text/x-python",
   "name": "python",
   "nbconvert_exporter": "python",
   "pygments_lexer": "ipython3",
   "version": "3.7.12"
  }
 },
 "nbformat": 4,
 "nbformat_minor": 5
}
