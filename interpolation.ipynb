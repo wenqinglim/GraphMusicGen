{
 "cells": [
  {
   "cell_type": "code",
   "execution_count": null,
   "id": "ce49d720-19e3-4704-aac9-1348e0288ad5",
   "metadata": {},
   "outputs": [],
   "source": [
    "# Test interpolation to connect 2 phrases"
   ]
  },
  {
   "cell_type": "code",
   "execution_count": 64,
   "id": "a34d3a7b-0972-45d6-b556-65437b799178",
   "metadata": {},
   "outputs": [],
   "source": [
    "import os\n",
    "import torch\n",
    "import torch.nn as nn\n",
    "import numpy as np\n",
    "import matplotlib.pyplot as plt\n",
    "import muspy\n",
    "\n",
    "from generate import load_model, generate_z, generate_music, save\n",
    "from utils import muspy_from_mtp, save_midi\n",
    "from plots import plot_pianoroll, plot_structure"
   ]
  },
  {
   "cell_type": "code",
   "execution_count": 2,
   "id": "691f5970-82f0-4ca2-827b-2c464673db01",
   "metadata": {},
   "outputs": [],
   "source": [
    "# Function to interpolate between two latent vectors\n",
    "def interpolate_latents(z1, z2, steps=10):\n",
    "    \"\"\"Interpolate between two latent vectors z1 and z2.\"\"\"\n",
    "    interpolated_z = []\n",
    "    for t in np.linspace(0, 1, steps):\n",
    "        z_t = (1 - t) * z1 + t * z2\n",
    "        interpolated_z.append(z_t)\n",
    "    return torch.stack(interpolated_z)"
   ]
  },
  {
   "cell_type": "code",
   "execution_count": 5,
   "id": "d2d282f5-6b07-458b-82df-1169c0d95178",
   "metadata": {
    "tags": []
   },
   "outputs": [],
   "source": [
    "device = torch.device(\"cuda\")"
   ]
  },
  {
   "cell_type": "code",
   "execution_count": 8,
   "id": "ca2d8b52-1007-483e-bbe4-2b34983b602b",
   "metadata": {
    "tags": []
   },
   "outputs": [],
   "source": [
    "model_dir = \"models/POP8_4_150_kld_anneal\""
   ]
  },
  {
   "cell_type": "code",
   "execution_count": 10,
   "id": "bac24cb7-6a3c-4fc9-af47-0a06a24401d3",
   "metadata": {
    "tags": []
   },
   "outputs": [],
   "source": [
    "model, configuration = load_model(model_dir, device)"
   ]
  },
  {
   "cell_type": "code",
   "execution_count": 15,
   "id": "dd2c8060-bc73-420d-af58-a3a251da1bb8",
   "metadata": {
    "tags": []
   },
   "outputs": [
    {
     "data": {
      "text/plain": [
       "{'batch_size': 32,\n",
       " 'model': {'dropout': 0,\n",
       "  'batch_norm': True,\n",
       "  'gnn_n_layers': 8,\n",
       "  'd': 512,\n",
       "  'n_bars': 4,\n",
       "  'resolution': 8},\n",
       " 'optimizer': {'betas': [0.9, 0.98], 'eps': 1e-09, 'lr': 5e-06},\n",
       " 'lr_scheduler': {'peak_lr': 0.0001,\n",
       "  'final_lr_scale': 0.01,\n",
       "  'warmup_steps': 1000,\n",
       "  'decay_steps': 800000},\n",
       " 'beta_scheduler': {'anneal_start': 5000,\n",
       "  'beta_max': 0.01,\n",
       "  'step_size': 0.001,\n",
       "  'anneal_end': 25000}}"
      ]
     },
     "execution_count": 15,
     "metadata": {},
     "output_type": "execute_result"
    }
   ],
   "source": [
    "configuration"
   ]
  },
  {
   "cell_type": "code",
   "execution_count": 75,
   "id": "09b48c0a-b101-4b6c-a6bd-c6119ee1cf6e",
   "metadata": {
    "tags": []
   },
   "outputs": [],
   "source": [
    "# Get latent vector for start phrase\n",
    "z1 = generate_z(1, configuration['model']['d'], device)\n",
    "\n",
    "# Get latent vector for end phrase\n",
    "z2 = generate_z(1, configuration['model']['d'], device)"
   ]
  },
  {
   "cell_type": "code",
   "execution_count": 80,
   "id": "9c3da532-be19-4b6f-a53e-fe28bb91e4a3",
   "metadata": {
    "tags": []
   },
   "outputs": [],
   "source": [
    "# Interpolate between 2 latent vectors\n",
    "zi = interpolate_latents(z1, z2, steps=10)"
   ]
  },
  {
   "cell_type": "code",
   "execution_count": 70,
   "id": "cee8eb77-d08a-4db3-ab4c-b4e723126650",
   "metadata": {
    "tags": []
   },
   "outputs": [],
   "source": [
    "def combine(zi, dir, s_tensor=None, n_loops=1, audio=True,\n",
    "         looped_only=False, plot_proll=False, plot_struct=False):\n",
    "    \n",
    "    muspy_songs = []\n",
    "    \n",
    "    for idx in range(zi.shape[0]):\n",
    "        mtp, s_tensor = generate_music(model, zi[idx])\n",
    "\n",
    "        n_bars = mtp.size(1)\n",
    "        resolution = mtp.size(3) // 4\n",
    "        # Clear matplotlib cache (this solves formatting problems with first plot)\n",
    "        plt.clf()\n",
    "\n",
    "        os.makedirs(dir, exist_ok=True)\n",
    "        if os.listdir(dir):\n",
    "            print(f\"list dir: {os.listdir(dir)}\")\n",
    "            curr_max_idx = max([eval(dir_num) for dir_num in os.listdir(dir)])\n",
    "        else:\n",
    "            curr_max_idx = -1\n",
    "\n",
    "        # Iterate over batches\n",
    "        for i in range(mtp.size(0)):\n",
    "\n",
    "            # Create the directory if it does not exist\n",
    "            save_dir = os.path.join(dir, str(i+curr_max_idx+1))\n",
    "            os.makedirs(save_dir, exist_ok=True)\n",
    "\n",
    "            if not looped_only:\n",
    "                # Generate MIDI song from multitrack pianoroll and save\n",
    "                muspy_songs.append(muspy_from_mtp(mtp[i]))\n",
    "                # print(\"Saving MIDI sequence {} in {}...\".format(str(i + 1), \n",
    "                #                                                 save_dir))\n",
    "                # save_midi(muspy_song, save_dir, name='generated')\n",
    "                # if audio:\n",
    "                #     print(\"Saving audio sequence {} in {}...\".format(str(i + 1),\n",
    "                #                                                      save_dir))\n",
    "                #     save_audio(muspy_song, save_dir, name='generated')\n",
    "\n",
    "#             if plot_proll:\n",
    "#                 plot_pianoroll(muspy_song, save_dir)\n",
    "\n",
    "            if plot_struct:\n",
    "                print(s_tensor[i].shape)\n",
    "                plot_structure(s_tensor[i].cpu(), save_dir)\n",
    "\n",
    "            # if n_loops > 1:\n",
    "            #     # Copy the generated sequence n_loops times and save the looped\n",
    "            #     # MIDI and audio files\n",
    "            #     print(\"Saving MIDI sequence \"\n",
    "            #           \"{} looped {} times in {}...\".format(str(i + 1), n_loops,\n",
    "            #                                                save_dir))\n",
    "            #     extended = loop_muspy_music(muspy_song, n_loops, \n",
    "            #                                  n_bars, resolution)\n",
    "            #     save_midi(extended, save_dir, name='extended')\n",
    "            #     if audio:\n",
    "            #         print(\"Saving audio sequence \"\n",
    "            #               \"{} looped {} times in {}...\".format(str(i + 1), n_loops,\n",
    "            #                                                    save_dir))\n",
    "            #         save_audio(extended, save_dir, name='extended')\n",
    "\n",
    "            print()\n",
    "    \n",
    "    # # Create a new empty song\n",
    "    # combined_song = muspy.Music()\n",
    "    # # Combine the tracks from all songs\n",
    "    # for song in muspy_songs:\n",
    "    #     for track in song.tracks:\n",
    "    #         # Copy track to avoid modifying the original song\n",
    "    #         new_track = track.copy()\n",
    "    #         combined_song.tracks.append(new_track)\n",
    "            \n",
    "    # Create a new empty song\n",
    "    combined_song = muspy.Music()\n",
    "    # Keep track of the current end time\n",
    "    current_time = 0\n",
    "\n",
    "    # Concatenate the tracks along the time axis\n",
    "    for song in muspy_songs:\n",
    "        for track in song.tracks:\n",
    "            new_track = track.copy()\n",
    "            for note in new_track.notes:\n",
    "                note.time += current_time\n",
    "            combined_song.tracks.append(new_track)\n",
    "        # Update current_time to the end of the last song\n",
    "        current_time += max(note.time for track in song.tracks for note in track.notes)\n",
    "\n",
    "    # Copy over other attributes like resolution and metadata from the first song\n",
    "    combined_song.metadata = songs[0].metadata\n",
    "    combined_song.resolution = songs[0].resolution\n",
    "    \n",
    "            \n",
    "    save_midi(combined_song, save_dir, name='generated')\n",
    "    if plot_proll:\n",
    "        plot_pianoroll(combined_song, save_dir)\n"
   ]
  },
  {
   "cell_type": "code",
   "execution_count": 81,
   "id": "34b88d62-ae29-4ec0-b219-1ce00705225a",
   "metadata": {
    "tags": []
   },
   "outputs": [
    {
     "name": "stdout",
     "output_type": "stream",
     "text": [
      "list dir: ['6', '10', '3', '17', '34', '22', '13', '1', '35', '7', '14', '32', '27', '15', '30', '4', '12', '5', '18', '33', '11', '39', '31', '25', '38', '21', '28', '23', '16', '37', '9', '8', '29', '36', '2', '20', '24', '19', '26', '0']\n",
      "torch.Size([4, 3, 32])\n",
      "\n",
      "list dir: ['6', '10', '3', '17', '40', '34', '22', '13', '1', '35', '7', '14', '32', '27', '15', '30', '4', '12', '5', '18', '33', '11', '39', '31', '25', '38', '21', '28', '23', '16', '37', '9', '8', '29', '36', '2', '20', '24', '19', '26', '0']\n",
      "torch.Size([4, 3, 32])\n",
      "\n",
      "list dir: ['6', '10', '3', '17', '40', '34', '22', '13', '41', '1', '35', '7', '14', '32', '27', '15', '30', '4', '12', '5', '18', '33', '11', '39', '31', '25', '38', '21', '28', '23', '16', '37', '9', '8', '29', '36', '2', '20', '24', '19', '26', '0']\n",
      "torch.Size([4, 3, 32])\n",
      "\n",
      "list dir: ['6', '10', '3', '17', '40', '34', '22', '13', '41', '1', '35', '7', '14', '32', '27', '15', '30', '4', '12', '5', '18', '33', '11', '39', '31', '25', '42', '38', '21', '28', '23', '16', '37', '9', '8', '29', '36', '2', '20', '24', '19', '26', '0']\n",
      "torch.Size([4, 3, 32])\n",
      "\n",
      "list dir: ['6', '10', '3', '17', '40', '34', '22', '13', '41', '43', '1', '35', '7', '14', '32', '27', '15', '30', '4', '12', '5', '18', '33', '11', '39', '31', '25', '42', '38', '21', '28', '23', '16', '37', '9', '8', '29', '36', '2', '20', '24', '19', '26', '0']\n",
      "torch.Size([4, 3, 32])\n",
      "\n",
      "list dir: ['6', '10', '3', '17', '40', '34', '22', '13', '41', '43', '1', '35', '7', '14', '32', '27', '15', '30', '4', '12', '5', '18', '33', '11', '39', '31', '25', '44', '42', '38', '21', '28', '23', '16', '37', '9', '8', '29', '36', '2', '20', '24', '19', '26', '0']\n",
      "torch.Size([4, 3, 32])\n",
      "\n",
      "list dir: ['6', '10', '45', '3', '17', '40', '34', '22', '13', '41', '43', '1', '35', '7', '14', '32', '27', '15', '30', '4', '12', '5', '18', '33', '11', '39', '31', '25', '44', '42', '38', '21', '28', '23', '16', '37', '9', '8', '29', '36', '2', '20', '24', '19', '26', '0']\n",
      "torch.Size([4, 3, 32])\n",
      "\n",
      "list dir: ['6', '10', '45', '3', '17', '46', '40', '34', '22', '13', '41', '43', '1', '35', '7', '14', '32', '27', '15', '30', '4', '12', '5', '18', '33', '11', '39', '31', '25', '44', '42', '38', '21', '28', '23', '16', '37', '9', '8', '29', '36', '2', '20', '24', '19', '26', '0']\n",
      "torch.Size([4, 3, 32])\n",
      "\n",
      "list dir: ['6', '10', '45', '3', '17', '46', '40', '34', '22', '13', '41', '43', '1', '47', '35', '7', '14', '32', '27', '15', '30', '4', '12', '5', '18', '33', '11', '39', '31', '25', '44', '42', '38', '21', '28', '23', '16', '37', '9', '8', '29', '36', '2', '20', '24', '19', '26', '0']\n",
      "torch.Size([4, 3, 32])\n",
      "\n",
      "list dir: ['6', '10', '45', '3', '17', '48', '46', '40', '34', '22', '13', '41', '43', '1', '47', '35', '7', '14', '32', '27', '15', '30', '4', '12', '5', '18', '33', '11', '39', '31', '25', '44', '42', '38', '21', '28', '23', '16', '37', '9', '8', '29', '36', '2', '20', '24', '19', '26', '0']\n",
      "torch.Size([4, 3, 32])\n",
      "\n"
     ]
    },
    {
     "ename": "IndexError",
     "evalue": "list index out of range",
     "output_type": "error",
     "traceback": [
      "\u001b[0;31m---------------------------------------------------------------------------\u001b[0m",
      "\u001b[0;31mIndexError\u001b[0m                                Traceback (most recent call last)",
      "\u001b[0;32m<ipython-input-81-daa93fdf4aa7>\u001b[0m in \u001b[0;36m<module>\u001b[0;34m\u001b[0m\n\u001b[1;32m      1\u001b[0m combine(zi, \"generate_interpolate\", s_tensor=None, n_loops=1, audio=False,\n\u001b[0;32m----> 2\u001b[0;31m          looped_only=False, plot_proll=True, plot_struct=True)\n\u001b[0m",
      "\u001b[0;32m<ipython-input-70-4a2cae70f4e7>\u001b[0m in \u001b[0;36mcombine\u001b[0;34m(zi, dir, s_tensor, n_loops, audio, looped_only, plot_proll, plot_struct)\u001b[0m\n\u001b[1;32m     93\u001b[0m     \u001b[0msave_midi\u001b[0m\u001b[0;34m(\u001b[0m\u001b[0mcombined_song\u001b[0m\u001b[0;34m,\u001b[0m \u001b[0msave_dir\u001b[0m\u001b[0;34m,\u001b[0m \u001b[0mname\u001b[0m\u001b[0;34m=\u001b[0m\u001b[0;34m'generated'\u001b[0m\u001b[0;34m)\u001b[0m\u001b[0;34m\u001b[0m\u001b[0;34m\u001b[0m\u001b[0m\n\u001b[1;32m     94\u001b[0m     \u001b[0;32mif\u001b[0m \u001b[0mplot_proll\u001b[0m\u001b[0;34m:\u001b[0m\u001b[0;34m\u001b[0m\u001b[0;34m\u001b[0m\u001b[0m\n\u001b[0;32m---> 95\u001b[0;31m         \u001b[0mplot_pianoroll\u001b[0m\u001b[0;34m(\u001b[0m\u001b[0mcombined_song\u001b[0m\u001b[0;34m,\u001b[0m \u001b[0msave_dir\u001b[0m\u001b[0;34m)\u001b[0m\u001b[0;34m\u001b[0m\u001b[0;34m\u001b[0m\u001b[0m\n\u001b[0m",
      "\u001b[0;32m~/GraphMusicGen/plots.py\u001b[0m in \u001b[0;36mplot_pianoroll\u001b[0;34m(muspy_song, save_dir, name)\u001b[0m\n\u001b[1;32m     30\u001b[0m         muspy.show_pianoroll(music=muspy_song, yticklabel='off', xtick='off',\n\u001b[1;32m     31\u001b[0m                              \u001b[0mlabel\u001b[0m\u001b[0;34m=\u001b[0m\u001b[0mlabel\u001b[0m\u001b[0;34m,\u001b[0m \u001b[0mxticklabel\u001b[0m\u001b[0;34m=\u001b[0m\u001b[0mxticklabel\u001b[0m\u001b[0;34m,\u001b[0m\u001b[0;34m\u001b[0m\u001b[0;34m\u001b[0m\u001b[0m\n\u001b[0;32m---> 32\u001b[0;31m                              grid_axis='off', axs=axs, preset='full')\n\u001b[0m\u001b[1;32m     33\u001b[0m \u001b[0;34m\u001b[0m\u001b[0m\n\u001b[1;32m     34\u001b[0m         \u001b[0;32mif\u001b[0m \u001b[0msave_dir\u001b[0m\u001b[0;34m:\u001b[0m\u001b[0;34m\u001b[0m\u001b[0;34m\u001b[0m\u001b[0m\n",
      "\u001b[0;32m~/GraphMusicGen/envs/lib/python3.7/site-packages/muspy/visualization/pianoroll.py\u001b[0m in \u001b[0;36mshow_pianoroll\u001b[0;34m(music, **kwargs)\u001b[0m\n\u001b[1;32m      9\u001b[0m     \u001b[0;34m\"\"\"Show pianoroll visualization.\"\"\"\u001b[0m\u001b[0;34m\u001b[0m\u001b[0;34m\u001b[0m\u001b[0m\n\u001b[1;32m     10\u001b[0m     \u001b[0mmultitrack\u001b[0m \u001b[0;34m=\u001b[0m \u001b[0mmusic\u001b[0m\u001b[0;34m.\u001b[0m\u001b[0mto_pypianoroll\u001b[0m\u001b[0;34m(\u001b[0m\u001b[0;34m)\u001b[0m\u001b[0;34m\u001b[0m\u001b[0;34m\u001b[0m\u001b[0m\n\u001b[0;32m---> 11\u001b[0;31m     \u001b[0;32mreturn\u001b[0m \u001b[0mmultitrack\u001b[0m\u001b[0;34m.\u001b[0m\u001b[0mplot\u001b[0m\u001b[0;34m(\u001b[0m\u001b[0;34m**\u001b[0m\u001b[0mkwargs\u001b[0m\u001b[0;34m)\u001b[0m\u001b[0;34m\u001b[0m\u001b[0;34m\u001b[0m\u001b[0m\n\u001b[0m",
      "\u001b[0;32m~/GraphMusicGen/envs/lib/python3.7/site-packages/pypianoroll/multitrack.py\u001b[0m in \u001b[0;36mplot\u001b[0;34m(self, axs, **kwargs)\u001b[0m\n\u001b[1;32m    695\u001b[0m \u001b[0;34m\u001b[0m\u001b[0m\n\u001b[1;32m    696\u001b[0m         \"\"\"\n\u001b[0;32m--> 697\u001b[0;31m         \u001b[0;32mreturn\u001b[0m \u001b[0mplot_multitrack\u001b[0m\u001b[0;34m(\u001b[0m\u001b[0mself\u001b[0m\u001b[0;34m,\u001b[0m \u001b[0maxs\u001b[0m\u001b[0;34m,\u001b[0m \u001b[0;34m**\u001b[0m\u001b[0mkwargs\u001b[0m\u001b[0;34m)\u001b[0m\u001b[0;34m\u001b[0m\u001b[0;34m\u001b[0m\u001b[0m\n\u001b[0m",
      "\u001b[0;32m~/GraphMusicGen/envs/lib/python3.7/site-packages/pypianoroll/visualization.py\u001b[0m in \u001b[0;36mplot_multitrack\u001b[0;34m(multitrack, axs, mode, track_label, preset, cmaps, xtick, ytick, xticklabel, yticklabel, tick_loc, tick_direction, label, grid_axis, grid_linestyle, grid_linewidth, **kwargs)\u001b[0m\n\u001b[1;32m    389\u001b[0m             \u001b[0mnow_xticklabel\u001b[0m \u001b[0;34m=\u001b[0m \u001b[0mxticklabel\u001b[0m \u001b[0;32mif\u001b[0m \u001b[0midx\u001b[0m \u001b[0;34m<\u001b[0m \u001b[0mn_tracks\u001b[0m \u001b[0;32melse\u001b[0m \u001b[0;32mFalse\u001b[0m\u001b[0;34m\u001b[0m\u001b[0;34m\u001b[0m\u001b[0m\n\u001b[1;32m    390\u001b[0m             plot_pianoroll(\n\u001b[0;32m--> 391\u001b[0;31m                 \u001b[0max\u001b[0m\u001b[0;34m=\u001b[0m\u001b[0maxs\u001b[0m\u001b[0;34m[\u001b[0m\u001b[0midx\u001b[0m\u001b[0;34m]\u001b[0m\u001b[0;34m,\u001b[0m\u001b[0;34m\u001b[0m\u001b[0;34m\u001b[0m\u001b[0m\n\u001b[0m\u001b[1;32m    392\u001b[0m                 \u001b[0mpianoroll\u001b[0m\u001b[0;34m=\u001b[0m\u001b[0mtrack\u001b[0m\u001b[0;34m.\u001b[0m\u001b[0mpianoroll\u001b[0m\u001b[0;34m,\u001b[0m\u001b[0;34m\u001b[0m\u001b[0;34m\u001b[0m\u001b[0m\n\u001b[1;32m    393\u001b[0m                 \u001b[0mis_drum\u001b[0m\u001b[0;34m=\u001b[0m\u001b[0;32mFalse\u001b[0m\u001b[0;34m,\u001b[0m\u001b[0;34m\u001b[0m\u001b[0;34m\u001b[0m\u001b[0m\n",
      "\u001b[0;31mIndexError\u001b[0m: list index out of range"
     ]
    },
    {
     "data": {
      "text/plain": [
       "<Figure size 432x288 with 0 Axes>"
      ]
     },
     "metadata": {},
     "output_type": "display_data"
    },
    {
     "data": {
      "text/plain": [
       "<Figure size 864x216 with 0 Axes>"
      ]
     },
     "metadata": {},
     "output_type": "display_data"
    },
    {
     "data": {
      "text/plain": [
       "<Figure size 864x216 with 0 Axes>"
      ]
     },
     "metadata": {},
     "output_type": "display_data"
    },
    {
     "data": {
      "text/plain": [
       "<Figure size 864x216 with 0 Axes>"
      ]
     },
     "metadata": {},
     "output_type": "display_data"
    },
    {
     "data": {
      "text/plain": [
       "<Figure size 864x216 with 0 Axes>"
      ]
     },
     "metadata": {},
     "output_type": "display_data"
    },
    {
     "data": {
      "text/plain": [
       "<Figure size 864x216 with 0 Axes>"
      ]
     },
     "metadata": {},
     "output_type": "display_data"
    },
    {
     "data": {
      "text/plain": [
       "<Figure size 864x216 with 0 Axes>"
      ]
     },
     "metadata": {},
     "output_type": "display_data"
    },
    {
     "data": {
      "text/plain": [
       "<Figure size 864x216 with 0 Axes>"
      ]
     },
     "metadata": {},
     "output_type": "display_data"
    },
    {
     "data": {
      "text/plain": [
       "<Figure size 864x216 with 0 Axes>"
      ]
     },
     "metadata": {},
     "output_type": "display_data"
    },
    {
     "data": {
      "text/plain": [
       "<Figure size 864x216 with 0 Axes>"
      ]
     },
     "metadata": {},
     "output_type": "display_data"
    },
    {
     "data": {
      "image/png": "[encoded data removed]",
      "text/plain": [
       "<Figure size 864x216 with 1 Axes>"
      ]
     },
     "metadata": {
      "image/png": {
       "height": 203,
       "width": 741
      },
      "needs_background": "light"
     },
     "output_type": "display_data"
    },
    {
     "data": {
      "image/png": "[encoded data removed]",
      "text/plain": [
       "<Figure size 1440x720 with 3 Axes>"
      ]
     },
     "metadata": {
      "image/png": {
       "height": 557,
       "width": 1243
      }
     },
     "output_type": "display_data"
    }
   ],
   "source": [
    "combine(zi, \"generate_interpolate\", s_tensor=None, n_loops=1, audio=False,\n",
    "         looped_only=False, plot_proll=True, plot_struct=True)"
   ]
  },
  {
   "cell_type": "code",
   "execution_count": null,
   "id": "52632aeb-fa98-49fa-b4b6-ab959652da45",
   "metadata": {},
   "outputs": [],
   "source": []
  },
  {
   "cell_type": "code",
   "execution_count": null,
   "id": "8ea08c5e-7cf0-411c-bcf9-7e245c4b2b55",
   "metadata": {},
   "outputs": [],
   "source": []
  }
 ],
 "metadata": {
  "kernelspec": {
   "display_name": "graphmugen",
   "language": "python",
   "name": "graphmugen"
  },
  "language_info": {
   "codemirror_mode": {
    "name": "ipython",
    "version": 3
   },
   "file_extension": ".py",
   "mimetype": "text/x-python",
   "name": "python",
   "nbconvert_exporter": "python",
   "pygments_lexer": "ipython3",
   "version": "3.7.12"
  }
 },
 "nbformat": 4,
 "nbformat_minor": 5
}
