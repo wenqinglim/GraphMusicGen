{
 "cells": [
  {
   "cell_type": "markdown",
   "id": "e3c95c89-c731-4ad3-b197-ec23529b2e36",
   "metadata": {},
   "source": [
    "# Pre-process POP909 for Polyphemus\n",
    "- split 909 into phrases instead of bars\n",
    "- Phrases are of varying bar-length --> Add padding??\n",
    "- Use 4/4 only"
   ]
  },
  {
   "cell_type": "code",
   "execution_count": 3,
   "id": "a34fdc0b-4bea-43f8-b409-c6c9c0ad8c3e",
   "metadata": {
    "tags": []
   },
   "outputs": [],
   "source": [
    "import os\n",
    "import time\n",
    "import sys\n",
    "import multiprocessing\n",
    "import itertools\n",
    "import argparse\n",
    "from itertools import product\n",
    "\n",
    "import numpy as np\n",
    "import tqdm\n",
    "import pypianoroll as pproll\n",
    "import muspy"
   ]
  },
  {
   "cell_type": "code",
   "execution_count": 1,
   "id": "320c4d53-1112-440b-a728-1a029a3c6cf1",
   "metadata": {
    "tags": []
   },
   "outputs": [],
   "source": [
    "filepath = \"POP909/001/001.mid\""
   ]
  },
  {
   "cell_type": "code",
   "execution_count": 5,
   "id": "62e59c94-30a1-4466-8aa1-d7eecc309e49",
   "metadata": {
    "tags": []
   },
   "outputs": [],
   "source": [
    "pproll_song = pproll.read(filepath, resolution=8)\n",
    "muspy_song = muspy.read(filepath)"
   ]
  },
  {
   "cell_type": "code",
   "execution_count": 15,
   "id": "63d84a97-931b-4841-88c7-2e87c3038fb8",
   "metadata": {
    "tags": []
   },
   "outputs": [
    {
     "name": "stdout",
     "output_type": "stream",
     "text": [
      "Processing POP909/001/001.mid\n",
      "Song skipped (2/4 time signature)\n",
      "Processing POP909/002/002.mid\n",
      "Song skipped (2/4 time signature)\n",
      "Processing POP909/003/003.mid\n",
      "Song skipped (2/4 time signature)\n",
      "Processing POP909/004/004.mid\n",
      "Song skipped (2/4 time signature)\n",
      "Processing POP909/005/005.mid\n",
      "Song skipped (2/4 time signature)\n",
      "Processing POP909/006/006.mid\n",
      "Song skipped (2/4 time signature)\n",
      "Processing POP909/007/007.mid\n",
      "Song skipped (2/4 time signature)\n",
      "Processing POP909/008/008.mid\n",
      "Song accepted! POP909/008/008.mid\n",
      "Song skipped (2/4 time signature)\n",
      "Processing POP909/009/009.mid\n",
      "Song skipped (2/4 time signature)\n"
     ]
    }
   ],
   "source": [
    "for i in range(1,10):\n",
    "    filepath = f\"POP909/00{i}/00{i}.mid\"\n",
    "    print(f\"Processing {filepath}\")\n",
    "    pproll_song = pproll.read(filepath, resolution=8)\n",
    "    muspy_song = muspy.read(filepath)\n",
    "    # Only accept songs that have a time signature of 4/4 and no time changes\n",
    "    for t in muspy_song.time_signatures:\n",
    "        # print(t)\n",
    "        if t.numerator != 4 or t.denominator != 4:\n",
    "            print(\"Song skipped ({}/{} time signature)\".\n",
    "                  format(t.numerator, t.denominator))\n",
    "        else:\n",
    "            print(f\"Song accepted! {filepath}\")"
   ]
  },
  {
   "cell_type": "code",
   "execution_count": 16,
   "id": "a0f0a031-7f1a-4730-ba69-9063eda90a07",
   "metadata": {
    "tags": []
   },
   "outputs": [
    {
     "data": {
      "text/plain": [
       "[StandardTrack(name='MELODY', program=0, is_drum=False, pianoroll=array(shape=(3792, 128), dtype=uint8)),\n",
       " StandardTrack(name='BRIDGE', program=0, is_drum=False, pianoroll=array(shape=(3792, 128), dtype=uint8)),\n",
       " StandardTrack(name='PIANO', program=0, is_drum=False, pianoroll=array(shape=(3792, 128), dtype=uint8))]"
      ]
     },
     "execution_count": 16,
     "metadata": {},
     "output_type": "execute_result"
    }
   ],
   "source": [
    "pproll_song.tracks"
   ]
  },
  {
   "cell_type": "markdown",
   "id": "645e1394-03b8-4045-b752-fffa32ad9b5f",
   "metadata": {},
   "source": [
    "### TODO:\n",
    "1. Figure out how to process 2/4 time signature in midi files\n",
    "2. Figure out how to split by number of bars, since we need to split phrases by length in number of bars."
   ]
  },
  {
   "cell_type": "code",
   "execution_count": null,
   "id": "b2e3bfeb-8929-4a3b-8690-36fe85e03803",
   "metadata": {},
   "outputs": [],
   "source": []
  }
 ],
 "metadata": {
  "kernelspec": {
   "display_name": "graphmugen",
   "language": "python",
   "name": "graphmugen"
  },
  "language_info": {
   "codemirror_mode": {
    "name": "ipython",
    "version": 3
   },
   "file_extension": ".py",
   "mimetype": "text/x-python",
   "name": "python",
   "nbconvert_exporter": "python",
   "pygments_lexer": "ipython3",
   "version": "3.7.12"
  }
 },
 "nbformat": 4,
 "nbformat_minor": 5
}
